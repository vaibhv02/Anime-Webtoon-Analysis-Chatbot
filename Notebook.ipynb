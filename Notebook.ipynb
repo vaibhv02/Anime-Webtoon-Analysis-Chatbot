{
 "cells": [
  {
   "cell_type": "code",
   "execution_count": 1,
   "metadata": {},
   "outputs": [],
   "source": [
    "import pandas as pd\n",
    "from sklearn.model_selection import train_test_split\n",
    "from sklearn.feature_extraction.text import TfidfVectorizer\n",
    "from sklearn.tree import DecisionTreeClassifier\n",
    "from sklearn.metrics import accuracy_score, classification_report"
   ]
  },
  {
   "cell_type": "markdown",
   "metadata": {},
   "source": [
    "# Task 1\n",
    "\n",
    "#### Creating a simple content classifier using “Top 15 Anime And K-Drama Like True Beauty Webtoon” as inspiration."
   ]
  },
  {
   "cell_type": "markdown",
   "metadata": {},
   "source": [
    "Downloaded a \"Webtoon Dataset.csv\" from Kaggle for this project."
   ]
  },
  {
   "cell_type": "code",
   "execution_count": 2,
   "metadata": {},
   "outputs": [
    {
     "data": {
      "text/html": [
       "<div>\n",
       "<style scoped>\n",
       "    .dataframe tbody tr th:only-of-type {\n",
       "        vertical-align: middle;\n",
       "    }\n",
       "\n",
       "    .dataframe tbody tr th {\n",
       "        vertical-align: top;\n",
       "    }\n",
       "\n",
       "    .dataframe thead th {\n",
       "        text-align: right;\n",
       "    }\n",
       "</style>\n",
       "<table border=\"1\" class=\"dataframe\">\n",
       "  <thead>\n",
       "    <tr style=\"text-align: right;\">\n",
       "      <th></th>\n",
       "      <th>id</th>\n",
       "      <th>Name</th>\n",
       "      <th>Writer</th>\n",
       "      <th>Likes</th>\n",
       "      <th>Genre</th>\n",
       "      <th>Rating</th>\n",
       "      <th>Subscribers</th>\n",
       "      <th>Summary</th>\n",
       "      <th>Update</th>\n",
       "      <th>Reading Link</th>\n",
       "    </tr>\n",
       "  </thead>\n",
       "  <tbody>\n",
       "    <tr>\n",
       "      <th>0</th>\n",
       "      <td>0</td>\n",
       "      <td>Let's Play</td>\n",
       "      <td>Leeanne M. Krecic (Mongie)</td>\n",
       "      <td>30.6M</td>\n",
       "      <td>Romance</td>\n",
       "      <td>9.62</td>\n",
       "      <td>4.2M</td>\n",
       "      <td>She's young, single and about to achieve her d...</td>\n",
       "      <td>UP EVERY TUESDAY</td>\n",
       "      <td>https://www.webtoons.com/en/romance/letsplay/l...</td>\n",
       "    </tr>\n",
       "    <tr>\n",
       "      <th>1</th>\n",
       "      <td>1</td>\n",
       "      <td>True Beauty</td>\n",
       "      <td>Yaongyi</td>\n",
       "      <td>39.9M</td>\n",
       "      <td>Romance</td>\n",
       "      <td>9.60</td>\n",
       "      <td>6.4M</td>\n",
       "      <td>After binge-watching beauty videos online, a s...</td>\n",
       "      <td>UP EVERY WEDNESDAY</td>\n",
       "      <td>https://www.webtoons.com/en/romance/truebeauty...</td>\n",
       "    </tr>\n",
       "    <tr>\n",
       "      <th>2</th>\n",
       "      <td>2</td>\n",
       "      <td>Midnight Poppy Land</td>\n",
       "      <td>Lilydusk</td>\n",
       "      <td>10.4M</td>\n",
       "      <td>Romance</td>\n",
       "      <td>9.81</td>\n",
       "      <td>2.1M</td>\n",
       "      <td>After making a grisly discovery in the country...</td>\n",
       "      <td>UP EVERY SATURDAY</td>\n",
       "      <td>https://www.webtoons.com/en/romance/midnight-p...</td>\n",
       "    </tr>\n",
       "    <tr>\n",
       "      <th>3</th>\n",
       "      <td>3</td>\n",
       "      <td>Age Matters</td>\n",
       "      <td>Enjelicious</td>\n",
       "      <td>25.9M</td>\n",
       "      <td>Romance</td>\n",
       "      <td>9.79</td>\n",
       "      <td>3.5M</td>\n",
       "      <td>She's a hopeless romantic who's turning 30's  ...</td>\n",
       "      <td>UP EVERY WEDNESDAY</td>\n",
       "      <td>https://www.webtoons.com/en/romance/age-matter...</td>\n",
       "    </tr>\n",
       "    <tr>\n",
       "      <th>4</th>\n",
       "      <td>4</td>\n",
       "      <td>Unholy Blood</td>\n",
       "      <td>Lina Im / Jeonghyeon Kim</td>\n",
       "      <td>9.9M</td>\n",
       "      <td>Supernatural</td>\n",
       "      <td>9.85</td>\n",
       "      <td>1.5M</td>\n",
       "      <td>When vampires destroy her chance to have the n...</td>\n",
       "      <td>UP EVERY THURSDAY</td>\n",
       "      <td>https://www.webtoons.com/en/supernatural/unhol...</td>\n",
       "    </tr>\n",
       "  </tbody>\n",
       "</table>\n",
       "</div>"
      ],
      "text/plain": [
       "   id                 Name                      Writer  Likes         Genre  \\\n",
       "0   0           Let's Play  Leeanne M. Krecic (Mongie)  30.6M       Romance   \n",
       "1   1          True Beauty                     Yaongyi  39.9M       Romance   \n",
       "2   2  Midnight Poppy Land                    Lilydusk  10.4M       Romance   \n",
       "3   3          Age Matters                 Enjelicious  25.9M       Romance   \n",
       "4   4         Unholy Blood    Lina Im / Jeonghyeon Kim   9.9M  Supernatural   \n",
       "\n",
       "   Rating Subscribers                                            Summary  \\\n",
       "0    9.62        4.2M  She's young, single and about to achieve her d...   \n",
       "1    9.60        6.4M  After binge-watching beauty videos online, a s...   \n",
       "2    9.81        2.1M  After making a grisly discovery in the country...   \n",
       "3    9.79        3.5M  She's a hopeless romantic who's turning 30's  ...   \n",
       "4    9.85        1.5M  When vampires destroy her chance to have the n...   \n",
       "\n",
       "               Update                                       Reading Link  \n",
       "0    UP EVERY TUESDAY  https://www.webtoons.com/en/romance/letsplay/l...  \n",
       "1  UP EVERY WEDNESDAY  https://www.webtoons.com/en/romance/truebeauty...  \n",
       "2   UP EVERY SATURDAY  https://www.webtoons.com/en/romance/midnight-p...  \n",
       "3  UP EVERY WEDNESDAY  https://www.webtoons.com/en/romance/age-matter...  \n",
       "4   UP EVERY THURSDAY  https://www.webtoons.com/en/supernatural/unhol...  "
      ]
     },
     "execution_count": 2,
     "metadata": {},
     "output_type": "execute_result"
    }
   ],
   "source": [
    "df = pd.read_csv('Webtoon Dataset.csv')\n",
    "df.head()"
   ]
  },
  {
   "cell_type": "code",
   "execution_count": 3,
   "metadata": {},
   "outputs": [],
   "source": [
    "df = df[['Summary', 'Genre']]"
   ]
  },
  {
   "cell_type": "code",
   "execution_count": 4,
   "metadata": {},
   "outputs": [],
   "source": [
    "df.dropna(inplace=True)"
   ]
  },
  {
   "cell_type": "code",
   "execution_count": 5,
   "metadata": {},
   "outputs": [
    {
     "data": {
      "text/html": [
       "<div>\n",
       "<style scoped>\n",
       "    .dataframe tbody tr th:only-of-type {\n",
       "        vertical-align: middle;\n",
       "    }\n",
       "\n",
       "    .dataframe tbody tr th {\n",
       "        vertical-align: top;\n",
       "    }\n",
       "\n",
       "    .dataframe thead th {\n",
       "        text-align: right;\n",
       "    }\n",
       "</style>\n",
       "<table border=\"1\" class=\"dataframe\">\n",
       "  <thead>\n",
       "    <tr style=\"text-align: right;\">\n",
       "      <th></th>\n",
       "      <th>Summary</th>\n",
       "      <th>Genre</th>\n",
       "    </tr>\n",
       "  </thead>\n",
       "  <tbody>\n",
       "    <tr>\n",
       "      <th>0</th>\n",
       "      <td>She's young, single and about to achieve her d...</td>\n",
       "      <td>Romance</td>\n",
       "    </tr>\n",
       "    <tr>\n",
       "      <th>1</th>\n",
       "      <td>After binge-watching beauty videos online, a s...</td>\n",
       "      <td>Romance</td>\n",
       "    </tr>\n",
       "    <tr>\n",
       "      <th>2</th>\n",
       "      <td>After making a grisly discovery in the country...</td>\n",
       "      <td>Romance</td>\n",
       "    </tr>\n",
       "    <tr>\n",
       "      <th>3</th>\n",
       "      <td>She's a hopeless romantic who's turning 30's  ...</td>\n",
       "      <td>Romance</td>\n",
       "    </tr>\n",
       "    <tr>\n",
       "      <th>4</th>\n",
       "      <td>When vampires destroy her chance to have the n...</td>\n",
       "      <td>Supernatural</td>\n",
       "    </tr>\n",
       "  </tbody>\n",
       "</table>\n",
       "</div>"
      ],
      "text/plain": [
       "                                             Summary         Genre\n",
       "0  She's young, single and about to achieve her d...       Romance\n",
       "1  After binge-watching beauty videos online, a s...       Romance\n",
       "2  After making a grisly discovery in the country...       Romance\n",
       "3  She's a hopeless romantic who's turning 30's  ...       Romance\n",
       "4  When vampires destroy her chance to have the n...  Supernatural"
      ]
     },
     "execution_count": 5,
     "metadata": {},
     "output_type": "execute_result"
    }
   ],
   "source": [
    "df.head()"
   ]
  },
  {
   "cell_type": "code",
   "execution_count": 6,
   "metadata": {},
   "outputs": [
    {
     "data": {
      "text/html": [
       "<div>\n",
       "<style scoped>\n",
       "    .dataframe tbody tr th:only-of-type {\n",
       "        vertical-align: middle;\n",
       "    }\n",
       "\n",
       "    .dataframe tbody tr th {\n",
       "        vertical-align: top;\n",
       "    }\n",
       "\n",
       "    .dataframe thead th {\n",
       "        text-align: right;\n",
       "    }\n",
       "</style>\n",
       "<table border=\"1\" class=\"dataframe\">\n",
       "  <thead>\n",
       "    <tr style=\"text-align: right;\">\n",
       "      <th></th>\n",
       "      <th>Summary</th>\n",
       "      <th>Genre</th>\n",
       "    </tr>\n",
       "  </thead>\n",
       "  <tbody>\n",
       "    <tr>\n",
       "      <th>564</th>\n",
       "      <td>Life's funny. One minute you're jobless, deep ...</td>\n",
       "      <td>Supernatural</td>\n",
       "    </tr>\n",
       "    <tr>\n",
       "      <th>565</th>\n",
       "      <td>\"Adamsville\" is an all ages series about two m...</td>\n",
       "      <td>Mystery</td>\n",
       "    </tr>\n",
       "    <tr>\n",
       "      <th>566</th>\n",
       "      <td>Get your WEBTOON news here!</td>\n",
       "      <td>Informative</td>\n",
       "    </tr>\n",
       "    <tr>\n",
       "      <th>567</th>\n",
       "      <td>A series of tips for staying safe during the C...</td>\n",
       "      <td>Informative</td>\n",
       "    </tr>\n",
       "    <tr>\n",
       "      <th>568</th>\n",
       "      <td>The mysterious team that brings Webtoon to you...</td>\n",
       "      <td>Informative</td>\n",
       "    </tr>\n",
       "  </tbody>\n",
       "</table>\n",
       "</div>"
      ],
      "text/plain": [
       "                                               Summary         Genre\n",
       "564  Life's funny. One minute you're jobless, deep ...  Supernatural\n",
       "565  \"Adamsville\" is an all ages series about two m...       Mystery\n",
       "566                        Get your WEBTOON news here!   Informative\n",
       "567  A series of tips for staying safe during the C...   Informative\n",
       "568  The mysterious team that brings Webtoon to you...   Informative"
      ]
     },
     "execution_count": 6,
     "metadata": {},
     "output_type": "execute_result"
    }
   ],
   "source": [
    "df.tail()"
   ]
  },
  {
   "cell_type": "code",
   "execution_count": 7,
   "metadata": {},
   "outputs": [],
   "source": [
    "tfidf = TfidfVectorizer(stop_words='english', max_features=5000)\n",
    "X = tfidf.fit_transform(df['Summary'])\n",
    "y = df['Genre']"
   ]
  },
  {
   "cell_type": "code",
   "execution_count": 8,
   "metadata": {},
   "outputs": [],
   "source": [
    "X_train, X_test, y_train, y_test = train_test_split(X, y, test_size=0.2, random_state=42)"
   ]
  },
  {
   "cell_type": "code",
   "execution_count": 9,
   "metadata": {},
   "outputs": [
    {
     "data": {
      "text/html": [
       "<style>#sk-container-id-1 {\n",
       "  /* Definition of color scheme common for light and dark mode */\n",
       "  --sklearn-color-text: black;\n",
       "  --sklearn-color-line: gray;\n",
       "  /* Definition of color scheme for unfitted estimators */\n",
       "  --sklearn-color-unfitted-level-0: #fff5e6;\n",
       "  --sklearn-color-unfitted-level-1: #f6e4d2;\n",
       "  --sklearn-color-unfitted-level-2: #ffe0b3;\n",
       "  --sklearn-color-unfitted-level-3: chocolate;\n",
       "  /* Definition of color scheme for fitted estimators */\n",
       "  --sklearn-color-fitted-level-0: #f0f8ff;\n",
       "  --sklearn-color-fitted-level-1: #d4ebff;\n",
       "  --sklearn-color-fitted-level-2: #b3dbfd;\n",
       "  --sklearn-color-fitted-level-3: cornflowerblue;\n",
       "\n",
       "  /* Specific color for light theme */\n",
       "  --sklearn-color-text-on-default-background: var(--sg-text-color, var(--theme-code-foreground, var(--jp-content-font-color1, black)));\n",
       "  --sklearn-color-background: var(--sg-background-color, var(--theme-background, var(--jp-layout-color0, white)));\n",
       "  --sklearn-color-border-box: var(--sg-text-color, var(--theme-code-foreground, var(--jp-content-font-color1, black)));\n",
       "  --sklearn-color-icon: #696969;\n",
       "\n",
       "  @media (prefers-color-scheme: dark) {\n",
       "    /* Redefinition of color scheme for dark theme */\n",
       "    --sklearn-color-text-on-default-background: var(--sg-text-color, var(--theme-code-foreground, var(--jp-content-font-color1, white)));\n",
       "    --sklearn-color-background: var(--sg-background-color, var(--theme-background, var(--jp-layout-color0, #111)));\n",
       "    --sklearn-color-border-box: var(--sg-text-color, var(--theme-code-foreground, var(--jp-content-font-color1, white)));\n",
       "    --sklearn-color-icon: #878787;\n",
       "  }\n",
       "}\n",
       "\n",
       "#sk-container-id-1 {\n",
       "  color: var(--sklearn-color-text);\n",
       "}\n",
       "\n",
       "#sk-container-id-1 pre {\n",
       "  padding: 0;\n",
       "}\n",
       "\n",
       "#sk-container-id-1 input.sk-hidden--visually {\n",
       "  border: 0;\n",
       "  clip: rect(1px 1px 1px 1px);\n",
       "  clip: rect(1px, 1px, 1px, 1px);\n",
       "  height: 1px;\n",
       "  margin: -1px;\n",
       "  overflow: hidden;\n",
       "  padding: 0;\n",
       "  position: absolute;\n",
       "  width: 1px;\n",
       "}\n",
       "\n",
       "#sk-container-id-1 div.sk-dashed-wrapped {\n",
       "  border: 1px dashed var(--sklearn-color-line);\n",
       "  margin: 0 0.4em 0.5em 0.4em;\n",
       "  box-sizing: border-box;\n",
       "  padding-bottom: 0.4em;\n",
       "  background-color: var(--sklearn-color-background);\n",
       "}\n",
       "\n",
       "#sk-container-id-1 div.sk-container {\n",
       "  /* jupyter's `normalize.less` sets `[hidden] { display: none; }`\n",
       "     but bootstrap.min.css set `[hidden] { display: none !important; }`\n",
       "     so we also need the `!important` here to be able to override the\n",
       "     default hidden behavior on the sphinx rendered scikit-learn.org.\n",
       "     See: https://github.com/scikit-learn/scikit-learn/issues/21755 */\n",
       "  display: inline-block !important;\n",
       "  position: relative;\n",
       "}\n",
       "\n",
       "#sk-container-id-1 div.sk-text-repr-fallback {\n",
       "  display: none;\n",
       "}\n",
       "\n",
       "div.sk-parallel-item,\n",
       "div.sk-serial,\n",
       "div.sk-item {\n",
       "  /* draw centered vertical line to link estimators */\n",
       "  background-image: linear-gradient(var(--sklearn-color-text-on-default-background), var(--sklearn-color-text-on-default-background));\n",
       "  background-size: 2px 100%;\n",
       "  background-repeat: no-repeat;\n",
       "  background-position: center center;\n",
       "}\n",
       "\n",
       "/* Parallel-specific style estimator block */\n",
       "\n",
       "#sk-container-id-1 div.sk-parallel-item::after {\n",
       "  content: \"\";\n",
       "  width: 100%;\n",
       "  border-bottom: 2px solid var(--sklearn-color-text-on-default-background);\n",
       "  flex-grow: 1;\n",
       "}\n",
       "\n",
       "#sk-container-id-1 div.sk-parallel {\n",
       "  display: flex;\n",
       "  align-items: stretch;\n",
       "  justify-content: center;\n",
       "  background-color: var(--sklearn-color-background);\n",
       "  position: relative;\n",
       "}\n",
       "\n",
       "#sk-container-id-1 div.sk-parallel-item {\n",
       "  display: flex;\n",
       "  flex-direction: column;\n",
       "}\n",
       "\n",
       "#sk-container-id-1 div.sk-parallel-item:first-child::after {\n",
       "  align-self: flex-end;\n",
       "  width: 50%;\n",
       "}\n",
       "\n",
       "#sk-container-id-1 div.sk-parallel-item:last-child::after {\n",
       "  align-self: flex-start;\n",
       "  width: 50%;\n",
       "}\n",
       "\n",
       "#sk-container-id-1 div.sk-parallel-item:only-child::after {\n",
       "  width: 0;\n",
       "}\n",
       "\n",
       "/* Serial-specific style estimator block */\n",
       "\n",
       "#sk-container-id-1 div.sk-serial {\n",
       "  display: flex;\n",
       "  flex-direction: column;\n",
       "  align-items: center;\n",
       "  background-color: var(--sklearn-color-background);\n",
       "  padding-right: 1em;\n",
       "  padding-left: 1em;\n",
       "}\n",
       "\n",
       "\n",
       "/* Toggleable style: style used for estimator/Pipeline/ColumnTransformer box that is\n",
       "clickable and can be expanded/collapsed.\n",
       "- Pipeline and ColumnTransformer use this feature and define the default style\n",
       "- Estimators will overwrite some part of the style using the `sk-estimator` class\n",
       "*/\n",
       "\n",
       "/* Pipeline and ColumnTransformer style (default) */\n",
       "\n",
       "#sk-container-id-1 div.sk-toggleable {\n",
       "  /* Default theme specific background. It is overwritten whether we have a\n",
       "  specific estimator or a Pipeline/ColumnTransformer */\n",
       "  background-color: var(--sklearn-color-background);\n",
       "}\n",
       "\n",
       "/* Toggleable label */\n",
       "#sk-container-id-1 label.sk-toggleable__label {\n",
       "  cursor: pointer;\n",
       "  display: block;\n",
       "  width: 100%;\n",
       "  margin-bottom: 0;\n",
       "  padding: 0.5em;\n",
       "  box-sizing: border-box;\n",
       "  text-align: center;\n",
       "}\n",
       "\n",
       "#sk-container-id-1 label.sk-toggleable__label-arrow:before {\n",
       "  /* Arrow on the left of the label */\n",
       "  content: \"▸\";\n",
       "  float: left;\n",
       "  margin-right: 0.25em;\n",
       "  color: var(--sklearn-color-icon);\n",
       "}\n",
       "\n",
       "#sk-container-id-1 label.sk-toggleable__label-arrow:hover:before {\n",
       "  color: var(--sklearn-color-text);\n",
       "}\n",
       "\n",
       "/* Toggleable content - dropdown */\n",
       "\n",
       "#sk-container-id-1 div.sk-toggleable__content {\n",
       "  max-height: 0;\n",
       "  max-width: 0;\n",
       "  overflow: hidden;\n",
       "  text-align: left;\n",
       "  /* unfitted */\n",
       "  background-color: var(--sklearn-color-unfitted-level-0);\n",
       "}\n",
       "\n",
       "#sk-container-id-1 div.sk-toggleable__content.fitted {\n",
       "  /* fitted */\n",
       "  background-color: var(--sklearn-color-fitted-level-0);\n",
       "}\n",
       "\n",
       "#sk-container-id-1 div.sk-toggleable__content pre {\n",
       "  margin: 0.2em;\n",
       "  border-radius: 0.25em;\n",
       "  color: var(--sklearn-color-text);\n",
       "  /* unfitted */\n",
       "  background-color: var(--sklearn-color-unfitted-level-0);\n",
       "}\n",
       "\n",
       "#sk-container-id-1 div.sk-toggleable__content.fitted pre {\n",
       "  /* unfitted */\n",
       "  background-color: var(--sklearn-color-fitted-level-0);\n",
       "}\n",
       "\n",
       "#sk-container-id-1 input.sk-toggleable__control:checked~div.sk-toggleable__content {\n",
       "  /* Expand drop-down */\n",
       "  max-height: 200px;\n",
       "  max-width: 100%;\n",
       "  overflow: auto;\n",
       "}\n",
       "\n",
       "#sk-container-id-1 input.sk-toggleable__control:checked~label.sk-toggleable__label-arrow:before {\n",
       "  content: \"▾\";\n",
       "}\n",
       "\n",
       "/* Pipeline/ColumnTransformer-specific style */\n",
       "\n",
       "#sk-container-id-1 div.sk-label input.sk-toggleable__control:checked~label.sk-toggleable__label {\n",
       "  color: var(--sklearn-color-text);\n",
       "  background-color: var(--sklearn-color-unfitted-level-2);\n",
       "}\n",
       "\n",
       "#sk-container-id-1 div.sk-label.fitted input.sk-toggleable__control:checked~label.sk-toggleable__label {\n",
       "  background-color: var(--sklearn-color-fitted-level-2);\n",
       "}\n",
       "\n",
       "/* Estimator-specific style */\n",
       "\n",
       "/* Colorize estimator box */\n",
       "#sk-container-id-1 div.sk-estimator input.sk-toggleable__control:checked~label.sk-toggleable__label {\n",
       "  /* unfitted */\n",
       "  background-color: var(--sklearn-color-unfitted-level-2);\n",
       "}\n",
       "\n",
       "#sk-container-id-1 div.sk-estimator.fitted input.sk-toggleable__control:checked~label.sk-toggleable__label {\n",
       "  /* fitted */\n",
       "  background-color: var(--sklearn-color-fitted-level-2);\n",
       "}\n",
       "\n",
       "#sk-container-id-1 div.sk-label label.sk-toggleable__label,\n",
       "#sk-container-id-1 div.sk-label label {\n",
       "  /* The background is the default theme color */\n",
       "  color: var(--sklearn-color-text-on-default-background);\n",
       "}\n",
       "\n",
       "/* On hover, darken the color of the background */\n",
       "#sk-container-id-1 div.sk-label:hover label.sk-toggleable__label {\n",
       "  color: var(--sklearn-color-text);\n",
       "  background-color: var(--sklearn-color-unfitted-level-2);\n",
       "}\n",
       "\n",
       "/* Label box, darken color on hover, fitted */\n",
       "#sk-container-id-1 div.sk-label.fitted:hover label.sk-toggleable__label.fitted {\n",
       "  color: var(--sklearn-color-text);\n",
       "  background-color: var(--sklearn-color-fitted-level-2);\n",
       "}\n",
       "\n",
       "/* Estimator label */\n",
       "\n",
       "#sk-container-id-1 div.sk-label label {\n",
       "  font-family: monospace;\n",
       "  font-weight: bold;\n",
       "  display: inline-block;\n",
       "  line-height: 1.2em;\n",
       "}\n",
       "\n",
       "#sk-container-id-1 div.sk-label-container {\n",
       "  text-align: center;\n",
       "}\n",
       "\n",
       "/* Estimator-specific */\n",
       "#sk-container-id-1 div.sk-estimator {\n",
       "  font-family: monospace;\n",
       "  border: 1px dotted var(--sklearn-color-border-box);\n",
       "  border-radius: 0.25em;\n",
       "  box-sizing: border-box;\n",
       "  margin-bottom: 0.5em;\n",
       "  /* unfitted */\n",
       "  background-color: var(--sklearn-color-unfitted-level-0);\n",
       "}\n",
       "\n",
       "#sk-container-id-1 div.sk-estimator.fitted {\n",
       "  /* fitted */\n",
       "  background-color: var(--sklearn-color-fitted-level-0);\n",
       "}\n",
       "\n",
       "/* on hover */\n",
       "#sk-container-id-1 div.sk-estimator:hover {\n",
       "  /* unfitted */\n",
       "  background-color: var(--sklearn-color-unfitted-level-2);\n",
       "}\n",
       "\n",
       "#sk-container-id-1 div.sk-estimator.fitted:hover {\n",
       "  /* fitted */\n",
       "  background-color: var(--sklearn-color-fitted-level-2);\n",
       "}\n",
       "\n",
       "/* Specification for estimator info (e.g. \"i\" and \"?\") */\n",
       "\n",
       "/* Common style for \"i\" and \"?\" */\n",
       "\n",
       ".sk-estimator-doc-link,\n",
       "a:link.sk-estimator-doc-link,\n",
       "a:visited.sk-estimator-doc-link {\n",
       "  float: right;\n",
       "  font-size: smaller;\n",
       "  line-height: 1em;\n",
       "  font-family: monospace;\n",
       "  background-color: var(--sklearn-color-background);\n",
       "  border-radius: 1em;\n",
       "  height: 1em;\n",
       "  width: 1em;\n",
       "  text-decoration: none !important;\n",
       "  margin-left: 1ex;\n",
       "  /* unfitted */\n",
       "  border: var(--sklearn-color-unfitted-level-1) 1pt solid;\n",
       "  color: var(--sklearn-color-unfitted-level-1);\n",
       "}\n",
       "\n",
       ".sk-estimator-doc-link.fitted,\n",
       "a:link.sk-estimator-doc-link.fitted,\n",
       "a:visited.sk-estimator-doc-link.fitted {\n",
       "  /* fitted */\n",
       "  border: var(--sklearn-color-fitted-level-1) 1pt solid;\n",
       "  color: var(--sklearn-color-fitted-level-1);\n",
       "}\n",
       "\n",
       "/* On hover */\n",
       "div.sk-estimator:hover .sk-estimator-doc-link:hover,\n",
       ".sk-estimator-doc-link:hover,\n",
       "div.sk-label-container:hover .sk-estimator-doc-link:hover,\n",
       ".sk-estimator-doc-link:hover {\n",
       "  /* unfitted */\n",
       "  background-color: var(--sklearn-color-unfitted-level-3);\n",
       "  color: var(--sklearn-color-background);\n",
       "  text-decoration: none;\n",
       "}\n",
       "\n",
       "div.sk-estimator.fitted:hover .sk-estimator-doc-link.fitted:hover,\n",
       ".sk-estimator-doc-link.fitted:hover,\n",
       "div.sk-label-container:hover .sk-estimator-doc-link.fitted:hover,\n",
       ".sk-estimator-doc-link.fitted:hover {\n",
       "  /* fitted */\n",
       "  background-color: var(--sklearn-color-fitted-level-3);\n",
       "  color: var(--sklearn-color-background);\n",
       "  text-decoration: none;\n",
       "}\n",
       "\n",
       "/* Span, style for the box shown on hovering the info icon */\n",
       ".sk-estimator-doc-link span {\n",
       "  display: none;\n",
       "  z-index: 9999;\n",
       "  position: relative;\n",
       "  font-weight: normal;\n",
       "  right: .2ex;\n",
       "  padding: .5ex;\n",
       "  margin: .5ex;\n",
       "  width: min-content;\n",
       "  min-width: 20ex;\n",
       "  max-width: 50ex;\n",
       "  color: var(--sklearn-color-text);\n",
       "  box-shadow: 2pt 2pt 4pt #999;\n",
       "  /* unfitted */\n",
       "  background: var(--sklearn-color-unfitted-level-0);\n",
       "  border: .5pt solid var(--sklearn-color-unfitted-level-3);\n",
       "}\n",
       "\n",
       ".sk-estimator-doc-link.fitted span {\n",
       "  /* fitted */\n",
       "  background: var(--sklearn-color-fitted-level-0);\n",
       "  border: var(--sklearn-color-fitted-level-3);\n",
       "}\n",
       "\n",
       ".sk-estimator-doc-link:hover span {\n",
       "  display: block;\n",
       "}\n",
       "\n",
       "/* \"?\"-specific style due to the `<a>` HTML tag */\n",
       "\n",
       "#sk-container-id-1 a.estimator_doc_link {\n",
       "  float: right;\n",
       "  font-size: 1rem;\n",
       "  line-height: 1em;\n",
       "  font-family: monospace;\n",
       "  background-color: var(--sklearn-color-background);\n",
       "  border-radius: 1rem;\n",
       "  height: 1rem;\n",
       "  width: 1rem;\n",
       "  text-decoration: none;\n",
       "  /* unfitted */\n",
       "  color: var(--sklearn-color-unfitted-level-1);\n",
       "  border: var(--sklearn-color-unfitted-level-1) 1pt solid;\n",
       "}\n",
       "\n",
       "#sk-container-id-1 a.estimator_doc_link.fitted {\n",
       "  /* fitted */\n",
       "  border: var(--sklearn-color-fitted-level-1) 1pt solid;\n",
       "  color: var(--sklearn-color-fitted-level-1);\n",
       "}\n",
       "\n",
       "/* On hover */\n",
       "#sk-container-id-1 a.estimator_doc_link:hover {\n",
       "  /* unfitted */\n",
       "  background-color: var(--sklearn-color-unfitted-level-3);\n",
       "  color: var(--sklearn-color-background);\n",
       "  text-decoration: none;\n",
       "}\n",
       "\n",
       "#sk-container-id-1 a.estimator_doc_link.fitted:hover {\n",
       "  /* fitted */\n",
       "  background-color: var(--sklearn-color-fitted-level-3);\n",
       "}\n",
       "</style><div id=\"sk-container-id-1\" class=\"sk-top-container\"><div class=\"sk-text-repr-fallback\"><pre>LogisticRegression(max_iter=1000)</pre><b>In a Jupyter environment, please rerun this cell to show the HTML representation or trust the notebook. <br />On GitHub, the HTML representation is unable to render, please try loading this page with nbviewer.org.</b></div><div class=\"sk-container\" hidden><div class=\"sk-item\"><div class=\"sk-estimator fitted sk-toggleable\"><input class=\"sk-toggleable__control sk-hidden--visually\" id=\"sk-estimator-id-1\" type=\"checkbox\" checked><label for=\"sk-estimator-id-1\" class=\"sk-toggleable__label fitted sk-toggleable__label-arrow fitted\">&nbsp;&nbsp;LogisticRegression<a class=\"sk-estimator-doc-link fitted\" rel=\"noreferrer\" target=\"_blank\" href=\"https://scikit-learn.org/1.5/modules/generated/sklearn.linear_model.LogisticRegression.html\">?<span>Documentation for LogisticRegression</span></a><span class=\"sk-estimator-doc-link fitted\">i<span>Fitted</span></span></label><div class=\"sk-toggleable__content fitted\"><pre>LogisticRegression(max_iter=1000)</pre></div> </div></div></div></div>"
      ],
      "text/plain": [
       "LogisticRegression(max_iter=1000)"
      ]
     },
     "execution_count": 9,
     "metadata": {},
     "output_type": "execute_result"
    }
   ],
   "source": [
    "from sklearn.linear_model import LogisticRegression\n",
    "\n",
    "model = LogisticRegression(max_iter=1000)\n",
    "model.fit(X_train, y_train)"
   ]
  },
  {
   "cell_type": "code",
   "execution_count": 10,
   "metadata": {},
   "outputs": [
    {
     "name": "stdout",
     "output_type": "stream",
     "text": [
      "Accuracy: 0.24561403508771928\n",
      "Classification Report:\n",
      "                precision    recall  f1-score   support\n",
      "\n",
      "       Action       1.00      0.25      0.40         4\n",
      "       Comedy       0.00      0.00      0.00        12\n",
      "        Drama       0.00      0.00      0.00        16\n",
      "      Fantasy       0.21      0.88      0.34        17\n",
      " Heartwarming       0.00      0.00      0.00         1\n",
      "       Horror       0.00      0.00      0.00         6\n",
      "  Informative       0.00      0.00      0.00         2\n",
      "      Mystery       0.00      0.00      0.00         4\n",
      "      Romance       0.30      0.63      0.41        19\n",
      "       Sci-fi       0.00      0.00      0.00         4\n",
      "Slice of life       0.00      0.00      0.00         6\n",
      "       Sports       0.00      0.00      0.00         2\n",
      "    Superhero       0.00      0.00      0.00         3\n",
      " Supernatural       0.00      0.00      0.00         9\n",
      "     Thriller       0.00      0.00      0.00         9\n",
      "\n",
      "     accuracy                           0.25       114\n",
      "    macro avg       0.10      0.12      0.08       114\n",
      " weighted avg       0.12      0.25      0.13       114\n",
      "\n"
     ]
    },
    {
     "name": "stderr",
     "output_type": "stream",
     "text": [
      "e:\\PROJECTS\\animemangatoon\\Anime-Webtoon-Analysis-Chatbot\\myenv\\Lib\\site-packages\\sklearn\\metrics\\_classification.py:1531: UndefinedMetricWarning: Precision is ill-defined and being set to 0.0 in labels with no predicted samples. Use `zero_division` parameter to control this behavior.\n",
      "  _warn_prf(average, modifier, f\"{metric.capitalize()} is\", len(result))\n",
      "e:\\PROJECTS\\animemangatoon\\Anime-Webtoon-Analysis-Chatbot\\myenv\\Lib\\site-packages\\sklearn\\metrics\\_classification.py:1531: UndefinedMetricWarning: Precision is ill-defined and being set to 0.0 in labels with no predicted samples. Use `zero_division` parameter to control this behavior.\n",
      "  _warn_prf(average, modifier, f\"{metric.capitalize()} is\", len(result))\n",
      "e:\\PROJECTS\\animemangatoon\\Anime-Webtoon-Analysis-Chatbot\\myenv\\Lib\\site-packages\\sklearn\\metrics\\_classification.py:1531: UndefinedMetricWarning: Precision is ill-defined and being set to 0.0 in labels with no predicted samples. Use `zero_division` parameter to control this behavior.\n",
      "  _warn_prf(average, modifier, f\"{metric.capitalize()} is\", len(result))\n"
     ]
    }
   ],
   "source": [
    "y_pred = model.predict(X_test)\n",
    "print(\"Accuracy:\", accuracy_score(y_test, y_pred))\n",
    "print(\"Classification Report:\\n\", classification_report(y_test, y_pred))\n"
   ]
  },
  {
   "cell_type": "code",
   "execution_count": 11,
   "metadata": {},
   "outputs": [
    {
     "name": "stdout",
     "output_type": "stream",
     "text": [
      "Accuracy: 0.2807017543859649\n",
      "Classification Report:\n",
      "                precision    recall  f1-score   support\n",
      "\n",
      "       Action       0.18      0.50      0.27         4\n",
      "       Comedy       0.11      0.08      0.10        12\n",
      "        Drama       0.31      0.31      0.31        16\n",
      "      Fantasy       0.36      0.53      0.43        17\n",
      " Heartwarming       0.00      0.00      0.00         1\n",
      "       Horror       0.33      0.33      0.33         6\n",
      "  Informative       0.00      0.00      0.00         2\n",
      "      Mystery       0.00      0.00      0.00         4\n",
      "      Romance       0.42      0.42      0.42        19\n",
      "       Sci-fi       0.67      0.50      0.57         4\n",
      "Slice of life       0.00      0.00      0.00         6\n",
      "       Sports       0.00      0.00      0.00         2\n",
      "    Superhero       1.00      0.67      0.80         3\n",
      " Supernatural       0.00      0.00      0.00         9\n",
      "     Thriller       0.20      0.11      0.14         9\n",
      "\n",
      "     accuracy                           0.28       114\n",
      "    macro avg       0.24      0.23      0.22       114\n",
      " weighted avg       0.27      0.28      0.27       114\n",
      "\n"
     ]
    },
    {
     "name": "stderr",
     "output_type": "stream",
     "text": [
      "e:\\PROJECTS\\animemangatoon\\Anime-Webtoon-Analysis-Chatbot\\myenv\\Lib\\site-packages\\sklearn\\metrics\\_classification.py:1531: UndefinedMetricWarning: Precision is ill-defined and being set to 0.0 in labels with no predicted samples. Use `zero_division` parameter to control this behavior.\n",
      "  _warn_prf(average, modifier, f\"{metric.capitalize()} is\", len(result))\n",
      "e:\\PROJECTS\\animemangatoon\\Anime-Webtoon-Analysis-Chatbot\\myenv\\Lib\\site-packages\\sklearn\\metrics\\_classification.py:1531: UndefinedMetricWarning: Precision is ill-defined and being set to 0.0 in labels with no predicted samples. Use `zero_division` parameter to control this behavior.\n",
      "  _warn_prf(average, modifier, f\"{metric.capitalize()} is\", len(result))\n",
      "e:\\PROJECTS\\animemangatoon\\Anime-Webtoon-Analysis-Chatbot\\myenv\\Lib\\site-packages\\sklearn\\metrics\\_classification.py:1531: UndefinedMetricWarning: Precision is ill-defined and being set to 0.0 in labels with no predicted samples. Use `zero_division` parameter to control this behavior.\n",
      "  _warn_prf(average, modifier, f\"{metric.capitalize()} is\", len(result))\n"
     ]
    }
   ],
   "source": [
    "from sklearn.linear_model import LogisticRegression\n",
    "\n",
    "model = LogisticRegression(max_iter=1000, class_weight='balanced')\n",
    "model.fit(X_train, y_train)\n",
    "\n",
    "y_pred = model.predict(X_test)\n",
    "print(\"Accuracy:\", accuracy_score(y_test, y_pred))\n",
    "print(\"Classification Report:\\n\", classification_report(y_test, y_pred))\n"
   ]
  },
  {
   "cell_type": "markdown",
   "metadata": {},
   "source": [
    "The accuracy struggles stem from the dataset's complexity and imbalance. Genres like \"Fantasy\" and \"Romance\" have ample data, while others like \"Heartwarming\" or \"Informative\" lack sufficient samples for the model to learn effectively. This disparity hampers the classifier's ability to predict accurately across all categories.\n",
    "\n",
    "Additionally, text classification inherently involves nuances; word choice and context vary widely, making it a challenging task, especially with limited data. Using more balanced and extensive datasets, or perhaps more advanced techniques like deep learning, could improve results.\n",
    "\n",
    "Essentially, the model needs more and better data to truly understand and differentiate between all those genres."
   ]
  },
  {
   "cell_type": "markdown",
   "metadata": {},
   "source": [
    "# Task 2"
   ]
  },
  {
   "cell_type": "markdown",
   "metadata": {},
   "source": [
    "#### Performing a basic sentiment analysis on user comments for “The Difference Between Manga And Manhwa”."
   ]
  },
  {
   "cell_type": "code",
   "execution_count": 12,
   "metadata": {},
   "outputs": [],
   "source": [
    "import requests\n",
    "from bs4 import BeautifulSoup\n",
    "import pandas as pd\n",
    "from textblob import TextBlob"
   ]
  },
  {
   "cell_type": "code",
   "execution_count": 13,
   "metadata": {},
   "outputs": [],
   "source": [
    "url = 'https://animemangatoon.com/difference-between-manga-and-manhwa-webtoon/'"
   ]
  },
  {
   "cell_type": "code",
   "execution_count": 14,
   "metadata": {},
   "outputs": [],
   "source": [
    "response = requests.get(url)"
   ]
  },
  {
   "cell_type": "code",
   "execution_count": 15,
   "metadata": {},
   "outputs": [],
   "source": [
    "soup = BeautifulSoup(response.content, 'html.parser')"
   ]
  },
  {
   "cell_type": "code",
   "execution_count": 16,
   "metadata": {},
   "outputs": [],
   "source": [
    "comments = soup.select('div#div-comment-3.comment-body')"
   ]
  },
  {
   "cell_type": "code",
   "execution_count": 17,
   "metadata": {},
   "outputs": [],
   "source": [
    "comment_texts = [comment.get_text(strip=True) for comment in comments]"
   ]
  },
  {
   "cell_type": "code",
   "execution_count": 18,
   "metadata": {},
   "outputs": [],
   "source": [
    "comm = pd.DataFrame(comment_texts, columns=['comment'])"
   ]
  },
  {
   "cell_type": "markdown",
   "metadata": {},
   "source": [
    "### There is only one comment on the web page."
   ]
  },
  {
   "cell_type": "code",
   "execution_count": 19,
   "metadata": {},
   "outputs": [
    {
     "name": "stdout",
     "output_type": "stream",
     "text": [
      "                                             comment\n",
      "0  Anvitasays:May 22, 2024 at 18:54One of the bes...\n"
     ]
    }
   ],
   "source": [
    "print(comm.head())"
   ]
  },
  {
   "cell_type": "code",
   "execution_count": 20,
   "metadata": {},
   "outputs": [
    {
     "name": "stdout",
     "output_type": "stream",
     "text": [
      "sentiment_category\n",
      "Positive    100.0\n",
      "Name: proportion, dtype: float64\n"
     ]
    }
   ],
   "source": [
    "def get_sentiment(text):\n",
    "    return TextBlob(text).sentiment.polarity\n",
    "\n",
    "comm['sentiment'] = comm['comment'].apply(get_sentiment)\n",
    "\n",
    "def categorize_sentiment(polarity):\n",
    "    if polarity > 0:\n",
    "        return 'Positive'\n",
    "    elif polarity < 0:\n",
    "        return 'Negative'\n",
    "    else:\n",
    "        return 'Neutral'\n",
    "\n",
    "comm['sentiment_category'] = comm['sentiment'].apply(categorize_sentiment)\n",
    "\n",
    "summary = comm['sentiment_category'].value_counts(normalize=True) * 100\n",
    "print(summary)"
   ]
  },
  {
   "cell_type": "markdown",
   "metadata": {},
   "source": [
    "# Task 3"
   ]
  },
  {
   "cell_type": "markdown",
   "metadata": {},
   "source": [
    "#### Building a basic chatbot using “Castle Swimmer Chapter 83-89: Unveiling New Prophecy”."
   ]
  },
  {
   "cell_type": "code",
   "execution_count": 21,
   "metadata": {},
   "outputs": [
    {
     "name": "stdout",
     "output_type": "stream",
     "text": [
      "If you are keeping up with Wendy Lian Martin’s captivating webtoon, then you know that Castle Swimmer Season 2 has taken us deeper into mystery and intrigue. This gripping section delves into thefallout of the revelationin Chapter 82, where a conversation shows the depth of Siren’s curse and the apparent eternity tormenting him and his people. Castle Swimmer Chapter 83-89 raise the stakes, keeping secrets darker and more complex in character journeys than ever. Let’s get down to the exciting new chapters to experience them firsthand!Table of ContentsToggleCastle Swimmer Chapter 83 – 86: Strong-Willed SirenThe Mini-God’s RoleApologies And ConfessionsNew GoalCastle Swimmer Chapter 87-89: Kappa’s New ProphecyQueen NeeThe Castle from PastPersonal ReflectionCastle Swimmer Chapter 83 – 86: Strong-Willed SirenPrince SirenCastle Swimmer Chapter 83  begins with a shocking revelation. As prophesied, Siren was supposed to save his race by breaking curses, but it was discovered that he was cursed himself. The role of the savior, as foretold in the prophecy, became a fatal trap when it was revealed that fulfilling it another way would not bring redemption but doom for him.Thus, their conversation uncovers both being trapped in their predicament. The mysterious figure informs Siren that he can break free from his curse but still lose everyone. They will only have a chance to follow what has been stated.Siren mournfully acknowledges Kappa killing him as part of the prophecy. The burden of knowing that he is part of an ending foretold in the prophecy is too much for him to bear. Nevertheless, his resilience cuts through the darkness.He does not want to defy the prophecy out of obligation or duty but because he wants to live. This involves more than just traveling and seeing the world; instead, it encompasses visiting palaces, swimming freely across oceans, and making new acquaintances. By saying,“I deserve a chance to live. I am going to fight for it,”he refuses a fate determined by prophecies.The Mini-God’s RoleSirenChapter 84 begins with Siren hearing something informative and scary: a living mini-god must sustain a curse. Therefore, if the first mini-god who cursed them is no longer there, then its powers must have gone to another since they can share their powers.As he probes further into this matter, he discovers that another mini-god possesses power over the curse. The dialogue shifts to a sad note as the character, on the brink of transformation, imparts a grave warning:“Don’t trust prophecies. Don’t trust the words of gods. Don’t end up like we did.”On waking up, Siren discovers that he has been returned to where he was before being taken away. The shift from an eerie prophetic environment to this familiar ground is jarring as it intensifies disorientation and urgency.In the next scene, Pagoon and Pim begin to breathe again after realizing Siren is alive. He insists they stay away because he thinks it might be another illusion or trick. Nonetheless, Arp went towards them happily, relieving Siren a bit. This kind of confirmation helps him overcome his fears about the illusory nature of his true companions.The chapter ends with the group quickly leaving their dangerous location behind.Apologies And ConfessionsSiren, Pim, and Pagoon with ArpPim begins chapter 85 by profusely apologizing to Pagoon and Siren. She accepts her mistake of taking them all directly toward God’s Mouth instead of being more cautious, which could have killed all three of them.She is reassured by them, who tell her not to worry because they had been warned before leading her into danger.Later, Pim asks Siren how he is holding up. He tells her that he feels numb and has a headache, which are signs of emotional and physical stress. This conversation leads to Pim giving Siren a knife she discovered during their search. This knife brings a profoundly emotional moment, representing much about Siren’s past life.He reveals his mother’s scar on him as a painful memory. Even though filled with so much hate, he says that he still really misses his mom and tries to forget all those bitter memories completely.While reminiscing on what happened, Siren tells Pim she reminds him of his mother. He thought leaving the castle would help him let go of his old life and concentrate on saving other lives instead. Nonetheless, while they were in the trenches, some memories returned, indicating that the past would always haunt him one way or another.The chapter ends with Siren confiding in Pim about his escapades, which only opens a gateway for digging into his past life. This instance of being vulnerable and having trust builds up the plot as it allows readers to understand better Siren’s internal conflicts and how he relates with Pim.New GoalSiren, Pim, and Pagoon with ArpCastle Swimmer Chapter 86 begins with an astonished Pagoon, who has just learned of Siren’s past. He is deeply touched by his past involving the castle and the beacon and how he is determined to break the curse and free his people.Siren used this occasion to confess his humility and that his issues were nothing compared to Pim’s.In another scene, however, a sweet flashback shows a young Arp being chased by an eel. Kappa rescued Arp and took him in, promising him love and protection like one would give their child. This scene provides much-needed background information about the relationship between Arp and Kappa while adding emotional depth to what is happening presently.Once again, we are brought back into current events by looking at where Siren’s thoughts are taking him next. He must find a demi-god that will break the curse put upon him. It dawns on him that Kappa might know something since he knows a lot about prophecies. At the end of this chapter, Siren, with allies, sets out to find Kappa.Castle Swimmer Chapter 87-89: Kappa’s New ProphecyKappaCastle Swimmer Chapter 87 opens with Kappa waking up to a bad dream and discovering that Mono has been up all night. Mono’s and Kappa’s questions on what they would do after the Mini God is destroyed make it apparent that neither of them has a solid plan.Kappa’s answer reveals that he does not know what will happen after this adventure ends.His interaction with Mono further enhances his internal conflict. After this, Kappa starts getting pulled again. He realized that this connection was pointing toward another prophecy. This revelation adds an appealing twist to the storyline, insinuating that destiny might drive Kappa’s actions later.Queen NeeKappa and Queen NeeIn Castle Swimmer Chapter 88, Queen Nethimir tells Kappa to return to the crab. He is unwillingly drawn towards the nearest prophecy, creating a central conflict in the chapter as his journey is not self-directed but driven by powers beyond him. Mucku asks if he can use his witch endurance to withstand this, butKappa admits this is not an option, revealing his helplessness and sadness.As he follows it, Kappa’s path leads him to an enigmatic castle from his past. Though the castle appears empty for many years, he is fearful because this place does not suit any prophecy. Sensing his distress, the Evil Queen questions him about its history. After getting no response, she decides they should leave.However, as they prepare to leave, Mono spots what seems to be a person hiding behind one of the trees and uses her magic power to capture this figure, revealing Queen Nee.The Castle from PastKappaCastle Swimmer Chapter 89 starts with Queen Nee’s happiness at seeing Kappa again. He has visibly impressed her with his maturity, and she hopes Krilli will feel the same way when she sees him again. Heasks them why they are outside their usual Blue Hills domain, discussing their appearance today withQueen Nee and Krilli. An incident at Castle Colony triggered their departure recently. The absence of the beacon resulted in a destruction frenzy among them and the castles’ demolition.Queen Krilli was surprised to learn that the people Kappa had met recently were “evil witches from the dark seas,” as described by Queen Nethimir. On the other hand, he replies that they are his friends who are helping him become an evil witch.While they talk further, he asks why they moved to Purple Peaks. In response, Queen Nee explains that there were so many abandoned castles here, which made it perfect for building a new one.Castle Swimmer Chapter 89 takes a dramatic turn when Kappa volunteers to help them fulfill their prophecy, only for Queen Nee to say he is a special guest with no assigned tasks. Queen Nethimir interrupts them with urgent matters that require their attention, creating a playful yet tense conversation among them all.Personal ReflectionCastle Swimmer Chapter 83-89 continue to captivate with their intricate storytelling and emotional depth. The exploration of Siren’s curse and the unfolding prophecy adds complexity to the narrative. The portrayal of the Kappa’s dilemma and the fleeting moments of relief are particularly striking.As we wrap up this review ofCastle SwimmerChapter 83 to 89, it’s clear that the story is reaching new heights of intensity and intrigue. Share your reflections and predictions in the comments below!\n"
     ]
    }
   ],
   "source": [
    "import requests\n",
    "from bs4 import BeautifulSoup\n",
    "\n",
    "url = 'https://animemangatoon.com/castle-swimmer-unveiling-new-prophecy/'\n",
    "\n",
    "response = requests.get(url)\n",
    "\n",
    "soup = BeautifulSoup(response.content, 'html.parser')\n",
    "\n",
    "article_content = soup.find('div', class_='content-inner').get_text(strip=True)\n",
    "\n",
    "full_article = article_content\n",
    "\n",
    "print(full_article)"
   ]
  },
  {
   "cell_type": "code",
   "execution_count": 22,
   "metadata": {},
   "outputs": [],
   "source": [
    "responses = {\n",
    "    \"about\": \"Castle Swimmer is a fantasy webtoon about two sea creatures, Kappa and Siren, who are bound by a prophecy.\",\n",
    "    \"main characters\": \"The main characters are Kappa, the Beacon, and Siren, the prince of sharks.\",\n",
    "    \"prophecy\": \"The prophecy foretells that Kappa, the Beacon, will lead his people to a prosperous future, while Siren is destined to kill Kappa to ensure his own people's survival.\",\n",
    "    \"season 2\": \"Season 2 delves deeper into the mystery and intrigue, with Siren's curse being a central theme.\",\n",
    "    \"chapter 83\": \"Chapter 83 begins with a shocking revelation about Siren's curse and his role as the savior turning into a fatal trap.\",\n",
    "    \"chapter 84\": \"Chapter 84 reveals that a living mini-god must sustain a curse, adding a new layer to the story.\",\n",
    "    \"chapter 85\": \"Chapter 85 continues the exploration of Siren's resilience and his refusal to accept his cursed fate.\",\n",
    "    \"chapter 86\": \"Chapter 86 focuses on the challenges Siren faces as he navigates his fate and the prophecy.\",\n",
    "    \"chapter 87\": \"Chapter 87 shifts the focus to Kappa and his new prophecy.\",\n",
    "    \"chapter 88\": \"Chapter 88 delves into Queen Nee's involvement and the historical context of the prophecy.\",\n",
    "    \"chapter 89\": \"Chapter 89 offers personal reflections and sets the stage for future developments in the story.\"\n",
    "}\n"
   ]
  },
  {
   "cell_type": "code",
   "execution_count": 23,
   "metadata": {},
   "outputs": [
    {
     "name": "stdout",
     "output_type": "stream",
     "text": [
      "['C:\\\\Users\\\\hp/nltk_data', 'e:\\\\PROJECTS\\\\animemangatoon\\\\Anime-Webtoon-Analysis-Chatbot\\\\myenv\\\\nltk_data', 'e:\\\\PROJECTS\\\\animemangatoon\\\\Anime-Webtoon-Analysis-Chatbot\\\\myenv\\\\share\\\\nltk_data', 'e:\\\\PROJECTS\\\\animemangatoon\\\\Anime-Webtoon-Analysis-Chatbot\\\\myenv\\\\lib\\\\nltk_data', 'C:\\\\Users\\\\hp\\\\AppData\\\\Roaming\\\\nltk_data', 'C:\\\\nltk_data', 'D:\\\\nltk_data', 'E:\\\\nltk_data']\n"
     ]
    },
    {
     "name": "stderr",
     "output_type": "stream",
     "text": [
      "[nltk_data] Downloading package punkt to\n",
      "[nltk_data]     C:\\Users\\hp\\AppData\\Roaming\\nltk_data...\n",
      "[nltk_data]   Package punkt is already up-to-date!\n"
     ]
    }
   ],
   "source": [
    "import nltk\n",
    "\n",
    "nltk.download('punkt')\n",
    "print(nltk.data.path)\n"
   ]
  },
  {
   "cell_type": "code",
   "execution_count": 24,
   "metadata": {},
   "outputs": [],
   "source": [
    "import re\n",
    "\n",
    "responses = {\n",
    "    \"about\": \"Castle Swimmer is a fantasy webtoon about two sea creatures, Kappa and Siren, who are bound by a prophecy.\",\n",
    "    \"main characters\": \"The main characters are Kappa, the Beacon, and Siren, the prince of sharks.\",\n",
    "    \"kappa\": \"Kappa is one of the main characters, known as the Beacon.\",\n",
    "    \"siren\": \"Siren is the prince of sharks and one of the main characters.\",\n",
    "    \"prophecy\": \"The prophecy foretells that Kappa, the Beacon, will lead his people to a prosperous future, while Siren is destined to kill Kappa to ensure his own people's survival.\",\n",
    "    \"season 2\": \"Season 2 delves deeper into the mystery and intrigue, with Siren's curse being a central theme.\",\n",
    "    \"chapter 83\": \"Chapter 83 begins with a shocking revelation about Siren's curse and his role as the savior turning into a fatal trap.\",\n",
    "    \"chapter 84\": \"Chapter 84 reveals that a living mini-god must sustain a curse, adding a new layer to the story.\",\n",
    "    \"curse\": \"The curse is a significant theme, particularly for Siren as it affects his destiny and interactions with Kappa.\",\n",
    "}\n",
    "\n",
    "def chatbot_response(user_input):\n",
    "    user_input = user_input.lower()\n",
    "    \n",
    "    for keyword in responses:\n",
    "        if re.search(r'\\b' + re.escape(keyword) + r'\\b', user_input):\n",
    "            return responses[keyword]\n",
    "    \n",
    "    return \"I'm not sure how to answer that. Can you ask something else?\"\n",
    "\n"
   ]
  },
  {
   "cell_type": "code",
   "execution_count": 25,
   "metadata": {},
   "outputs": [
    {
     "name": "stdout",
     "output_type": "stream",
     "text": [
      "Castle Swimmer is a fantasy webtoon about two sea creatures, Kappa and Siren, who are bound by a prophecy.\n"
     ]
    }
   ],
   "source": [
    "print(chatbot_response(\"What is Castle Swimmer about?\"))"
   ]
  },
  {
   "cell_type": "code",
   "execution_count": 26,
   "metadata": {},
   "outputs": [
    {
     "name": "stdout",
     "output_type": "stream",
     "text": [
      "The main characters are Kappa, the Beacon, and Siren, the prince of sharks.\n"
     ]
    }
   ],
   "source": [
    "print(chatbot_response(\"Who are the main characters?\"))"
   ]
  },
  {
   "cell_type": "code",
   "execution_count": 27,
   "metadata": {},
   "outputs": [
    {
     "name": "stdout",
     "output_type": "stream",
     "text": [
      "Castle Swimmer is a fantasy webtoon about two sea creatures, Kappa and Siren, who are bound by a prophecy.\n"
     ]
    }
   ],
   "source": [
    "print(chatbot_response(\"Tell me about Chapter 84.\"))"
   ]
  },
  {
   "cell_type": "code",
   "execution_count": 28,
   "metadata": {},
   "outputs": [
    {
     "name": "stdout",
     "output_type": "stream",
     "text": [
      "The prophecy foretells that Kappa, the Beacon, will lead his people to a prosperous future, while Siren is destined to kill Kappa to ensure his own people's survival.\n"
     ]
    }
   ],
   "source": [
    "print(chatbot_response(\"What is the prophecy?\"))"
   ]
  },
  {
   "cell_type": "code",
   "execution_count": 29,
   "metadata": {},
   "outputs": [
    {
     "name": "stdout",
     "output_type": "stream",
     "text": [
      "Siren is the prince of sharks and one of the main characters.\n"
     ]
    }
   ],
   "source": [
    "print(chatbot_response(\"Who is Siren?\"))"
   ]
  }
 ],
 "metadata": {
  "kernelspec": {
   "display_name": "myenv",
   "language": "python",
   "name": "python3"
  },
  "language_info": {
   "codemirror_mode": {
    "name": "ipython",
    "version": 3
   },
   "file_extension": ".py",
   "mimetype": "text/x-python",
   "name": "python",
   "nbconvert_exporter": "python",
   "pygments_lexer": "ipython3",
   "version": "3.12.1"
  }
 },
 "nbformat": 4,
 "nbformat_minor": 2
}
